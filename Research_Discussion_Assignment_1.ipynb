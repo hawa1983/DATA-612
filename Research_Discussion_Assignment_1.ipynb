{
  "nbformat": 4,
  "nbformat_minor": 0,
  "metadata": {
    "colab": {
      "provenance": [],
      "authorship_tag": "ABX9TyPupnauyV7awBWWNSaBOXs9",
      "include_colab_link": true
    },
    "kernelspec": {
      "name": "python3",
      "display_name": "Python 3"
    },
    "language_info": {
      "name": "python"
    }
  },
  "cells": [
    {
      "cell_type": "markdown",
      "metadata": {
        "id": "view-in-github",
        "colab_type": "text"
      },
      "source": [
        "<a href=\"https://colab.research.google.com/github/hawa1983/DATA-612/blob/main/Research_Discussion_Assignment_1.ipynb\" target=\"_parent\"><img src=\"https://colab.research.google.com/assets/colab-badge.svg\" alt=\"Open In Colab\"/></a>"
      ]
    },
    {
      "cell_type": "markdown",
      "source": [
        "**DATA 612 – Research Discussion: My Experience with Recommender Systems**\n",
        "\n",
        "**Student:** Fomba Kassoh\n",
        "**Date:** June 12, 2025\n",
        "\n",
        "### Commercial Recommender System I’ve Used: Amazon\n",
        "\n",
        "One of the recommender systems I use regularly is Amazon’s. From my personal experience, Amazon’s system consistently recommends products I’m likely to be interested in, even when I’m just browsing. Based on what we’ve covered so far in this course, I believe Amazon’s success comes from combining several basic techniques we’ve discussed, such as collaborative filtering, content-based filtering, and behavior-based models.\n",
        "\n",
        "#### How I Think It Works\n",
        "\n",
        "**Item-Item Collaborative Filtering**\n",
        "Amazon often recommends items with phrases like “Customers who bought this also bought...” or “Frequently bought together.” From what I’ve seen, this means Amazon likely uses item-item collaborative filtering, where it finds items similar to the ones I’ve shown interest in, based on the actions of other users.\n",
        "\n",
        "**Content-Based Filtering**\n",
        "In cold-start scenarios or sparse data conditions, like when I create a new account or browse a niche product, Amazon still shows decent recommendations. This is probably because it uses metadata like category, brand, or features to find similar items to the one I’m viewing.\n",
        "\n",
        "**Implicit Feedback Modeling**\n",
        "Even when I don’t rate products, Amazon seems to learn from my behavior: what I click, how long I stay on a page, what I add to cart, and what I buy. These actions are treated as indicators of interest and feed into its models.\n",
        "\n",
        "**Latent Factor and Deep Learning Models**\n",
        "Though I can’t directly see this, I believe Amazon uses matrix factorization and maybe neural networks to uncover patterns in user behavior. These methods likely help the system generalize beyond exact product matches and tailor recommendations to my preferences.\n",
        "\n",
        "### Does Amazon’s System Work for Me?\n",
        "\n",
        "Yes, it usually does. I find that Amazon’s recommendations are often useful and timely. However, there are situations when the recommendations get thrown off, for example, when I browse for gifts. Amazon temporarily adjusts to that short-term interest, even when it doesn’t reflect my actual preferences.\n",
        "\n",
        "### Non-Personalized Recommender I’ve Used: IMDb\n",
        "\n",
        "I also use IMDb frequently to check out movie and TV show ratings before watching. Unlike Amazon, IMDb’s system isn’t personalized, but it gives valuable aggregated user feedback.\n",
        "\n",
        "#### How IMDb Ratings Work (Based on My Understanding)\n",
        "\n",
        "* IMDb lets registered users rate titles from 1 to 10.\n",
        "* Each user can only rate a title once, though they can update their rating.\n",
        "* The displayed rating on a title page is a weighted average, not a simple mean.\n",
        "* IMDb does not disclose the full weighting method, but it adjusts for unusual patterns and prevents ballot stuffing.\n",
        "* IMDb also shows:\n",
        "\n",
        "  * The distribution of scores (how many users gave 1, 2, 10, etc.)\n",
        "  * The total number of votes\n",
        "  * Additional critic reviews and links to Metacritic\n",
        "* A title must have been publicly shown at least once to be rated.\n",
        "* Ratings update several times daily but may not reflect every single new vote in real time.\n",
        "* Episodes and entire series are rated separately.\n",
        "* IMDb applies safeguards against coordinated mass ratings and adjusts ratings accordingly.\n",
        "\n",
        "More on IMDb's methods and FAQ can be found [here](https://www.imdb.com/help/show_leaf?ratingsfaq).\n",
        "\n",
        "### My Preferred Non-Personalized System: IMDb\n",
        "\n",
        "Between the three systems we discussed in class, Metacritic, Rotten Tomatoes, and IMDb, I prefer IMDb. Here’s why:\n",
        "\n",
        "* It gives me more control and context to interpret ratings.\n",
        "* The rating breakdowns help me judge whether a film is polarizing or consistent.\n",
        "* I can access user reviews and vote counts to support my decision.\n",
        "* Unlike Rotten Tomatoes and Metacritic, IMDb shows how the public feels, not just critics.\n",
        "\n",
        "### How I Think These Systems Are Evaluated\n",
        "\n",
        "From what we’ve learned so far, recommender systems are often evaluated using accuracy metrics. One example is Root Mean Squared Error (RMSE), which compares predicted ratings to actual ratings. Even though I don’t see this metric while using Amazon or IMDb, I now understand that systems like these use such metrics internally to refine their models.\n",
        "\n",
        "### Handling Attacks on Recommender Systems\n",
        "\n",
        "After reading the article on IMDb’s rating manipulation for “The Promise,” I realized how vulnerable recommender systems can be to coordinated attacks. In this case, thousands of users from a message board submitted one-star ratings to sink the film before it was even released, driven by political motives rather than quality.\n",
        "\n",
        "A similar example would be when certain groups tried to tank Amy Schumer’s Netflix special or the female-led “Ghostbusters” by giving overwhelmingly low ratings. These attacks attempt to alter perception and can harm the reputation or visibility of a title. [Read more here](https://insight.balancenow.co/review-bombing-a-look-at-the-all-female-ghostbusters/).\n",
        "\n",
        "To prevent this kind of abuse, I would suggest designing a recommender system that:\n",
        "\n",
        "* Uses **verified viewing behavior** before allowing users to rate.\n",
        "* Applies **weighted averaging** based on user reliability or rating history.\n",
        "* Detects and flags **suspicious rating spikes**, especially those coordinated by location or account creation time.\n",
        "* Employs **machine learning models** to spot and reduce the influence of ballot-stuffing patterns.\n",
        "* Offers transparency in showing both the weighted and raw averages so users can draw informed conclusions.\n",
        "\n",
        "IMDb already does some of these, like weighted ratings and anomaly detection, but the fact that such attacks are still possible shows the need for continual improvement.\n",
        "\n",
        "### Conclusion\n",
        "\n",
        "Although we are just at the beginning of this course, I’ve already started to see how recommender systems influence my digital experience. Amazon uses personalization to predict my needs, while IMDb empowers me with community insights. Learning about vulnerabilities like coordinated attacks has opened my eyes to the complexity of designing trustworthy systems. I’m excited to keep learning how these systems are built, evaluated, and defended so I can understand and maybe even build one myself in the future.\n"
      ],
      "metadata": {
        "id": "Qp7gv2-KJV82"
      }
    }
  ]
}