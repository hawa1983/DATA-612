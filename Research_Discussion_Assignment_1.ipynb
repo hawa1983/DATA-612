{
  "nbformat": 4,
  "nbformat_minor": 0,
  "metadata": {
    "colab": {
      "provenance": [],
      "authorship_tag": "ABX9TyMeMrmskHAr3eVTQ2GIFkn3",
      "include_colab_link": true
    },
    "kernelspec": {
      "name": "python3",
      "display_name": "Python 3"
    },
    "language_info": {
      "name": "python"
    }
  },
  "cells": [
    {
      "cell_type": "markdown",
      "metadata": {
        "id": "view-in-github",
        "colab_type": "text"
      },
      "source": [
        "<a href=\"https://colab.research.google.com/github/hawa1983/DATA-612/blob/main/Research_Discussion_Assignment_1.ipynb\" target=\"_parent\"><img src=\"https://colab.research.google.com/assets/colab-badge.svg\" alt=\"Open In Colab\"/></a>"
      ]
    },
    {
      "cell_type": "markdown",
      "source": [
        "**DATA 612 – Research Discussion: My Experience with Recommender Systems**\n",
        "**Name:** Fomba Kassoh\n",
        "**Date:** June 12, 2025\n",
        "\n",
        "### Commercial Recommender System I’ve Used: Amazon\n",
        "\n",
        "One of the recommender systems I use regularly is Amazon’s. From my personal experience, Amazon’s system consistently recommends products I am likely to be interested in, even when I am just casually browsing. Based on what we have covered so far in this course, I believe Amazon’s effectiveness comes from combining several basic techniques: collaborative filtering, content-based filtering, and behavior-based models.\n",
        "\n",
        "#### How I Think It Works\n",
        "\n",
        "**1. Item-Item Collaborative Filtering**\n",
        "Amazon often shows me suggestions like “Customers who bought this also bought” or “Frequently bought together.” These recommendations are usually relevant and timely. This suggests that Amazon compares the items I have interacted with to similar ones based on the behavior of other users.\n",
        "\n",
        "**2. Content-Based Filtering**\n",
        "When I look at a new or niche product, Amazon still manages to recommend items that match its category, brand, or features. This indicates that Amazon leverages item metadata to match my interests with similar products, even in cases where there is limited user behavior data.\n",
        "\n",
        "**3. Implicit Feedback Modeling**\n",
        "Even though I rarely rate items on Amazon, the platform still offers surprisingly accurate recommendations. I believe this is because it captures and learns from actions like clicks, dwell time, cart additions, and purchases. These are treated as implicit signals of interest and help personalize the recommendations.\n",
        "\n",
        "**4. Latent Factor Models**\n",
        "Although I do not see this part directly, I suspect Amazon uses deeper techniques such as matrix factorization or neural networks to uncover hidden relationships between users and items. For example, it seems to recognize that I prefer affordable electronics, even when I do not search for them explicitly.\n",
        "\n",
        "### Does Amazon’s System Work for Me?\n",
        "\n",
        "Yes, most of the time it works very well. I often discover useful products that I did not actively search for, thanks to Amazon’s ability to surface them at the right time. The system feels smart and well-adapted to my preferences.\n",
        "\n",
        "However, it sometimes makes incorrect assumptions. For example, when I shop for a gift, the recommendations can shift toward those categories and stay there too long. This shows that Amazon might be too reactive to short-term behavior without enough attention to long-term patterns.\n",
        "\n",
        "### Non-Personalized Recommender I’ve Used: IMDb\n",
        "\n",
        "I also use IMDb frequently to help choose movies and TV shows. Unlike Amazon, IMDb does not tailor ratings or suggestions based on my history, but it still provides rich information that helps me decide what to watch.\n",
        "\n",
        "#### How It Works (From My Experience)\n",
        "\n",
        "IMDb allows users to rate movies on a 1 to 10 scale. It aggregates these ratings into a weighted average that helps avoid manipulation by spam or biased reviews. What makes IMDb especially helpful to me is the additional context it provides:\n",
        "\n",
        "* Ratings broken down by age group, gender, and region\n",
        "* Full vote distribution, showing how many people gave the film each possible rating\n",
        "\n",
        "This helps me understand if a film is consistently liked or polarizing. For example, I might choose to watch a movie with a modest average rating if people in my demographic rate it highly.\n",
        "\n",
        "### My Preferred Non-Personalized System: IMDb\n",
        "\n",
        "Between Rotten Tomatoes, Metacritic, and IMDb, I prefer IMDb for several reasons:\n",
        "\n",
        "* It gives a breakdown of how different groups rated a film\n",
        "* It shows the full distribution of ratings, not just an average\n",
        "* It allows me to evaluate the data and make my own decision\n",
        "\n",
        "Rotten Tomatoes and Metacritic are useful, but they compress ratings into one number or percentage. I prefer having more details to explore before deciding what to watch.\n",
        "\n",
        "### How I Think These Systems Are Evaluated\n",
        "\n",
        "From what we have studied, I understand that recommender systems like Amazon’s are often evaluated using prediction metrics such as Root Mean Squared Error (RMSE). This metric measures how closely the system’s predicted preferences match actual user behavior. Even though users like me do not see these evaluations, I now realize they are essential to improving the model’s accuracy.\n",
        "\n",
        "Other possible metrics include click-through rate, conversion rate, or time spent engaging with a product or content. These help system designers tune their algorithms to serve users better.\n",
        "\n",
        "### Conclusion\n",
        "\n",
        "Through this course and my own experiences, I have come to appreciate how recommender systems work beneath the surface. Amazon uses a mix of collaborative filtering, content-based modeling, and behavior tracking to offer personalized recommendations. Although it occasionally misfires, it is overall a strong and effective system.\n",
        "\n",
        "IMDb, while not personalized, gives users tools to explore rating trends and make informed decisions. I appreciate that it does not try to predict my preferences but empowers me with data instead.\n",
        "\n",
        "Both systems are valuable in different ways. I now look at everyday recommendation tools with a more analytical perspective, understanding both their strengths and limitations.\n",
        "\n",
        "### GitHub Link\n",
        "\n",
        "My complete discussion can be found at:\n"
      ],
      "metadata": {
        "id": "Qp7gv2-KJV82"
      }
    }
  ]
}