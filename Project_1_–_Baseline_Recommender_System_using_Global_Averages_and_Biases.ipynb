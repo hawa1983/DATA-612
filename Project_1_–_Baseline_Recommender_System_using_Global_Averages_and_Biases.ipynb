{
  "nbformat": 4,
  "nbformat_minor": 0,
  "metadata": {
    "colab": {
      "provenance": [],
      "include_colab_link": true
    },
    "kernelspec": {
      "name": "python3",
      "display_name": "Python 3"
    },
    "language_info": {
      "name": "python"
    }
  },
  "cells": [
    {
      "cell_type": "markdown",
      "metadata": {
        "id": "view-in-github",
        "colab_type": "text"
      },
      "source": [
        "<a href=\"https://colab.research.google.com/github/hawa1983/DATA-612/blob/main/Project_1_%E2%80%93_Baseline_Recommender_System_using_Global_Averages_and_Biases.ipynb\" target=\"_parent\"><img src=\"https://colab.research.google.com/assets/colab-badge.svg\" alt=\"Open In Colab\"/></a>"
      ]
    },
    {
      "cell_type": "markdown",
      "source": [
        "# Project 1 – Baseline Recommender System using Global Averages and Biases\n",
        "\n",
        "In this project for DATA 612, we explore how to make rating predictions using minimal information.\n",
        "We build a simple recommender system that estimates ratings using global averages, user biases,\n",
        "and item biases. The goal is to evaluate how well these baseline predictors perform in comparison\n",
        "to using just the global mean.\n",
        "\n",
        "**Business Perspective:**\n",
        "This recommender system is designed to help an online movie streaming platform provide personalized\n",
        "movie recommendations to users. By leveraging patterns in existing user ratings, the system aims to\n",
        "predict how much a user might like a movie they haven't rated yet — even when only limited data is available.\n",
        "\n",
        "**Objectives:**\n",
        "- Simulate a small user-item ratings dataset with missing values.\n",
        "- Split the data into training and testing sets.\n",
        "- Calculate global average rating and evaluate its prediction error.\n",
        "- Estimate user and item biases based on deviations from the global average.\n",
        "- Use those biases to make baseline predictions.\n",
        "- Compare the prediction accuracy of the two approaches using RMSE.\n",
        "\n"
      ],
      "metadata": {
        "id": "sbDFbhF8gmt7"
      }
    },
    {
      "cell_type": "markdown",
      "source": [
        "## Step 1: Create a Toy Dataset\n",
        "\n",
        "We simulate ratings for 5 users and 5 items, with some missing values.\n"
      ],
      "metadata": {
        "id": "VQ2DvmZQh8Wa"
      }
    },
    {
      "cell_type": "code",
      "execution_count": 2,
      "metadata": {
        "colab": {
          "base_uri": "https://localhost:8080/",
          "height": 206
        },
        "id": "J96jbo04gkxT",
        "outputId": "e0381e0b-6527-47a2-8b5a-c24643a3157b"
      },
      "outputs": [
        {
          "output_type": "execute_result",
          "data": {
            "text/plain": [
              "  user item  rating\n",
              "0   U1   I1     4.0\n",
              "1   U1   I2     1.0\n",
              "2   U1   I3     1.0\n",
              "3   U1   I4     2.0\n",
              "4   U1   I5     NaN"
            ],
            "text/html": [
              "\n",
              "  <div id=\"df-37337c04-daae-4199-a51e-9f44d734d7a0\" class=\"colab-df-container\">\n",
              "    <div>\n",
              "<style scoped>\n",
              "    .dataframe tbody tr th:only-of-type {\n",
              "        vertical-align: middle;\n",
              "    }\n",
              "\n",
              "    .dataframe tbody tr th {\n",
              "        vertical-align: top;\n",
              "    }\n",
              "\n",
              "    .dataframe thead th {\n",
              "        text-align: right;\n",
              "    }\n",
              "</style>\n",
              "<table border=\"1\" class=\"dataframe\">\n",
              "  <thead>\n",
              "    <tr style=\"text-align: right;\">\n",
              "      <th></th>\n",
              "      <th>user</th>\n",
              "      <th>item</th>\n",
              "      <th>rating</th>\n",
              "    </tr>\n",
              "  </thead>\n",
              "  <tbody>\n",
              "    <tr>\n",
              "      <th>0</th>\n",
              "      <td>U1</td>\n",
              "      <td>I1</td>\n",
              "      <td>4.0</td>\n",
              "    </tr>\n",
              "    <tr>\n",
              "      <th>1</th>\n",
              "      <td>U1</td>\n",
              "      <td>I2</td>\n",
              "      <td>1.0</td>\n",
              "    </tr>\n",
              "    <tr>\n",
              "      <th>2</th>\n",
              "      <td>U1</td>\n",
              "      <td>I3</td>\n",
              "      <td>1.0</td>\n",
              "    </tr>\n",
              "    <tr>\n",
              "      <th>3</th>\n",
              "      <td>U1</td>\n",
              "      <td>I4</td>\n",
              "      <td>2.0</td>\n",
              "    </tr>\n",
              "    <tr>\n",
              "      <th>4</th>\n",
              "      <td>U1</td>\n",
              "      <td>I5</td>\n",
              "      <td>NaN</td>\n",
              "    </tr>\n",
              "  </tbody>\n",
              "</table>\n",
              "</div>\n",
              "    <div class=\"colab-df-buttons\">\n",
              "\n",
              "  <div class=\"colab-df-container\">\n",
              "    <button class=\"colab-df-convert\" onclick=\"convertToInteractive('df-37337c04-daae-4199-a51e-9f44d734d7a0')\"\n",
              "            title=\"Convert this dataframe to an interactive table.\"\n",
              "            style=\"display:none;\">\n",
              "\n",
              "  <svg xmlns=\"http://www.w3.org/2000/svg\" height=\"24px\" viewBox=\"0 -960 960 960\">\n",
              "    <path d=\"M120-120v-720h720v720H120Zm60-500h600v-160H180v160Zm220 220h160v-160H400v160Zm0 220h160v-160H400v160ZM180-400h160v-160H180v160Zm440 0h160v-160H620v160ZM180-180h160v-160H180v160Zm440 0h160v-160H620v160Z\"/>\n",
              "  </svg>\n",
              "    </button>\n",
              "\n",
              "  <style>\n",
              "    .colab-df-container {\n",
              "      display:flex;\n",
              "      gap: 12px;\n",
              "    }\n",
              "\n",
              "    .colab-df-convert {\n",
              "      background-color: #E8F0FE;\n",
              "      border: none;\n",
              "      border-radius: 50%;\n",
              "      cursor: pointer;\n",
              "      display: none;\n",
              "      fill: #1967D2;\n",
              "      height: 32px;\n",
              "      padding: 0 0 0 0;\n",
              "      width: 32px;\n",
              "    }\n",
              "\n",
              "    .colab-df-convert:hover {\n",
              "      background-color: #E2EBFA;\n",
              "      box-shadow: 0px 1px 2px rgba(60, 64, 67, 0.3), 0px 1px 3px 1px rgba(60, 64, 67, 0.15);\n",
              "      fill: #174EA6;\n",
              "    }\n",
              "\n",
              "    .colab-df-buttons div {\n",
              "      margin-bottom: 4px;\n",
              "    }\n",
              "\n",
              "    [theme=dark] .colab-df-convert {\n",
              "      background-color: #3B4455;\n",
              "      fill: #D2E3FC;\n",
              "    }\n",
              "\n",
              "    [theme=dark] .colab-df-convert:hover {\n",
              "      background-color: #434B5C;\n",
              "      box-shadow: 0px 1px 3px 1px rgba(0, 0, 0, 0.15);\n",
              "      filter: drop-shadow(0px 1px 2px rgba(0, 0, 0, 0.3));\n",
              "      fill: #FFFFFF;\n",
              "    }\n",
              "  </style>\n",
              "\n",
              "    <script>\n",
              "      const buttonEl =\n",
              "        document.querySelector('#df-37337c04-daae-4199-a51e-9f44d734d7a0 button.colab-df-convert');\n",
              "      buttonEl.style.display =\n",
              "        google.colab.kernel.accessAllowed ? 'block' : 'none';\n",
              "\n",
              "      async function convertToInteractive(key) {\n",
              "        const element = document.querySelector('#df-37337c04-daae-4199-a51e-9f44d734d7a0');\n",
              "        const dataTable =\n",
              "          await google.colab.kernel.invokeFunction('convertToInteractive',\n",
              "                                                    [key], {});\n",
              "        if (!dataTable) return;\n",
              "\n",
              "        const docLinkHtml = 'Like what you see? Visit the ' +\n",
              "          '<a target=\"_blank\" href=https://colab.research.google.com/notebooks/data_table.ipynb>data table notebook</a>'\n",
              "          + ' to learn more about interactive tables.';\n",
              "        element.innerHTML = '';\n",
              "        dataTable['output_type'] = 'display_data';\n",
              "        await google.colab.output.renderOutput(dataTable, element);\n",
              "        const docLink = document.createElement('div');\n",
              "        docLink.innerHTML = docLinkHtml;\n",
              "        element.appendChild(docLink);\n",
              "      }\n",
              "    </script>\n",
              "  </div>\n",
              "\n",
              "\n",
              "    <div id=\"df-55e83a39-3217-4332-bb8c-72e8760e657a\">\n",
              "      <button class=\"colab-df-quickchart\" onclick=\"quickchart('df-55e83a39-3217-4332-bb8c-72e8760e657a')\"\n",
              "                title=\"Suggest charts\"\n",
              "                style=\"display:none;\">\n",
              "\n",
              "<svg xmlns=\"http://www.w3.org/2000/svg\" height=\"24px\"viewBox=\"0 0 24 24\"\n",
              "     width=\"24px\">\n",
              "    <g>\n",
              "        <path d=\"M19 3H5c-1.1 0-2 .9-2 2v14c0 1.1.9 2 2 2h14c1.1 0 2-.9 2-2V5c0-1.1-.9-2-2-2zM9 17H7v-7h2v7zm4 0h-2V7h2v10zm4 0h-2v-4h2v4z\"/>\n",
              "    </g>\n",
              "</svg>\n",
              "      </button>\n",
              "\n",
              "<style>\n",
              "  .colab-df-quickchart {\n",
              "      --bg-color: #E8F0FE;\n",
              "      --fill-color: #1967D2;\n",
              "      --hover-bg-color: #E2EBFA;\n",
              "      --hover-fill-color: #174EA6;\n",
              "      --disabled-fill-color: #AAA;\n",
              "      --disabled-bg-color: #DDD;\n",
              "  }\n",
              "\n",
              "  [theme=dark] .colab-df-quickchart {\n",
              "      --bg-color: #3B4455;\n",
              "      --fill-color: #D2E3FC;\n",
              "      --hover-bg-color: #434B5C;\n",
              "      --hover-fill-color: #FFFFFF;\n",
              "      --disabled-bg-color: #3B4455;\n",
              "      --disabled-fill-color: #666;\n",
              "  }\n",
              "\n",
              "  .colab-df-quickchart {\n",
              "    background-color: var(--bg-color);\n",
              "    border: none;\n",
              "    border-radius: 50%;\n",
              "    cursor: pointer;\n",
              "    display: none;\n",
              "    fill: var(--fill-color);\n",
              "    height: 32px;\n",
              "    padding: 0;\n",
              "    width: 32px;\n",
              "  }\n",
              "\n",
              "  .colab-df-quickchart:hover {\n",
              "    background-color: var(--hover-bg-color);\n",
              "    box-shadow: 0 1px 2px rgba(60, 64, 67, 0.3), 0 1px 3px 1px rgba(60, 64, 67, 0.15);\n",
              "    fill: var(--button-hover-fill-color);\n",
              "  }\n",
              "\n",
              "  .colab-df-quickchart-complete:disabled,\n",
              "  .colab-df-quickchart-complete:disabled:hover {\n",
              "    background-color: var(--disabled-bg-color);\n",
              "    fill: var(--disabled-fill-color);\n",
              "    box-shadow: none;\n",
              "  }\n",
              "\n",
              "  .colab-df-spinner {\n",
              "    border: 2px solid var(--fill-color);\n",
              "    border-color: transparent;\n",
              "    border-bottom-color: var(--fill-color);\n",
              "    animation:\n",
              "      spin 1s steps(1) infinite;\n",
              "  }\n",
              "\n",
              "  @keyframes spin {\n",
              "    0% {\n",
              "      border-color: transparent;\n",
              "      border-bottom-color: var(--fill-color);\n",
              "      border-left-color: var(--fill-color);\n",
              "    }\n",
              "    20% {\n",
              "      border-color: transparent;\n",
              "      border-left-color: var(--fill-color);\n",
              "      border-top-color: var(--fill-color);\n",
              "    }\n",
              "    30% {\n",
              "      border-color: transparent;\n",
              "      border-left-color: var(--fill-color);\n",
              "      border-top-color: var(--fill-color);\n",
              "      border-right-color: var(--fill-color);\n",
              "    }\n",
              "    40% {\n",
              "      border-color: transparent;\n",
              "      border-right-color: var(--fill-color);\n",
              "      border-top-color: var(--fill-color);\n",
              "    }\n",
              "    60% {\n",
              "      border-color: transparent;\n",
              "      border-right-color: var(--fill-color);\n",
              "    }\n",
              "    80% {\n",
              "      border-color: transparent;\n",
              "      border-right-color: var(--fill-color);\n",
              "      border-bottom-color: var(--fill-color);\n",
              "    }\n",
              "    90% {\n",
              "      border-color: transparent;\n",
              "      border-bottom-color: var(--fill-color);\n",
              "    }\n",
              "  }\n",
              "</style>\n",
              "\n",
              "      <script>\n",
              "        async function quickchart(key) {\n",
              "          const quickchartButtonEl =\n",
              "            document.querySelector('#' + key + ' button');\n",
              "          quickchartButtonEl.disabled = true;  // To prevent multiple clicks.\n",
              "          quickchartButtonEl.classList.add('colab-df-spinner');\n",
              "          try {\n",
              "            const charts = await google.colab.kernel.invokeFunction(\n",
              "                'suggestCharts', [key], {});\n",
              "          } catch (error) {\n",
              "            console.error('Error during call to suggestCharts:', error);\n",
              "          }\n",
              "          quickchartButtonEl.classList.remove('colab-df-spinner');\n",
              "          quickchartButtonEl.classList.add('colab-df-quickchart-complete');\n",
              "        }\n",
              "        (() => {\n",
              "          let quickchartButtonEl =\n",
              "            document.querySelector('#df-55e83a39-3217-4332-bb8c-72e8760e657a button');\n",
              "          quickchartButtonEl.style.display =\n",
              "            google.colab.kernel.accessAllowed ? 'block' : 'none';\n",
              "        })();\n",
              "      </script>\n",
              "    </div>\n",
              "\n",
              "    </div>\n",
              "  </div>\n"
            ],
            "application/vnd.google.colaboratory.intrinsic+json": {
              "type": "dataframe",
              "variable_name": "df",
              "summary": "{\n  \"name\": \"df\",\n  \"rows\": 100,\n  \"fields\": [\n    {\n      \"column\": \"user\",\n      \"properties\": {\n        \"dtype\": \"category\",\n        \"num_unique_values\": 10,\n        \"samples\": [\n          \"U9\",\n          \"U2\",\n          \"U6\"\n        ],\n        \"semantic_type\": \"\",\n        \"description\": \"\"\n      }\n    },\n    {\n      \"column\": \"item\",\n      \"properties\": {\n        \"dtype\": \"category\",\n        \"num_unique_values\": 10,\n        \"samples\": [\n          \"I9\",\n          \"I2\",\n          \"I6\"\n        ],\n        \"semantic_type\": \"\",\n        \"description\": \"\"\n      }\n    },\n    {\n      \"column\": \"rating\",\n      \"properties\": {\n        \"dtype\": \"number\",\n        \"std\": 1.3294745624983573,\n        \"min\": 1.0,\n        \"max\": 5.0,\n        \"num_unique_values\": 5,\n        \"samples\": [\n          1.0,\n          3.0,\n          2.0\n        ],\n        \"semantic_type\": \"\",\n        \"description\": \"\"\n      }\n    }\n  ]\n}"
            }
          },
          "metadata": {},
          "execution_count": 2
        }
      ],
      "source": [
        "import pandas as pd\n",
        "import numpy as np\n",
        "\n",
        "# Create a toy dataset\n",
        "import numpy as np\n",
        "\n",
        "data = {\n",
        "    'user': [\n",
        "        'U1','U1','U1','U1','U1','U1','U1','U1','U1','U1',\n",
        "        'U2','U2','U2','U2','U2','U2','U2','U2','U2','U2',\n",
        "        'U3','U3','U3','U3','U3','U3','U3','U3','U3','U3',\n",
        "        'U4','U4','U4','U4','U4','U4','U4','U4','U4','U4',\n",
        "        'U5','U5','U5','U5','U5','U5','U5','U5','U5','U5',\n",
        "        'U6','U6','U6','U6','U6','U6','U6','U6','U6','U6',\n",
        "        'U7','U7','U7','U7','U7','U7','U7','U7','U7','U7',\n",
        "        'U8','U8','U8','U8','U8','U8','U8','U8','U8','U8',\n",
        "        'U9','U9','U9','U9','U9','U9','U9','U9','U9','U9',\n",
        "        'U10','U10','U10','U10','U10','U10','U10','U10','U10','U10',\n",
        "    ],\n",
        "    'item': [\n",
        "        *(['I1','I2','I3','I4','I5','I6','I7','I8','I9','I10'] * 10)\n",
        "    ],\n",
        "    'rating': list(np.random.choice([1, 2, 3, 4, 5, np.nan], size=100, p=[0.1, 0.15, 0.2, 0.2, 0.15, 0.2]))\n",
        "}\n",
        "\n",
        "\n",
        "df = pd.DataFrame(data)\n",
        "df.head()\n"
      ]
    },
    {
      "cell_type": "markdown",
      "source": [
        "## Step 2: Split into Train and Test Sets\n",
        "\n",
        "We randomly split the non-missing ratings into training and testing datasets (80/20 split).\n"
      ],
      "metadata": {
        "id": "-ZSW0WlUiuLa"
      }
    },
    {
      "cell_type": "code",
      "source": [
        "from sklearn.model_selection import train_test_split\n",
        "import pandas as pd\n",
        "\n",
        "# Drop rows with missing ratings\n",
        "df_non_missing = df.dropna(subset=['rating']).copy()\n",
        "\n",
        "# Use sklearn to split into train/test\n",
        "train_idx, test_idx = train_test_split(df_non_missing.index, test_size=0.2, random_state=42)\n",
        "\n",
        "# Assign train/test labels\n",
        "df['set'] = 'train'\n",
        "df.loc[test_idx, 'set'] = 'test'\n",
        "\n",
        "# Create separate train/test DataFrames\n",
        "train = df[(df['set'] == 'train') & df['rating'].notna()].copy()\n",
        "test = df[(df['set'] == 'test') & df['rating'].notna()].copy()\n",
        "\n"
      ],
      "metadata": {
        "id": "hxwNURxFizG5"
      },
      "execution_count": 3,
      "outputs": []
    },
    {
      "cell_type": "markdown",
      "source": [
        "## Step 3: Global Average Prediction\n",
        "\n",
        "We calculate the global average from the training set and use it to predict all ratings.\n"
      ],
      "metadata": {
        "id": "O7mDNeiyjLZQ"
      }
    },
    {
      "cell_type": "code",
      "source": [
        "# Global average rating\n",
        "global_avg = train['rating'].mean()\n",
        "\n",
        "train['pred_avg'] = global_avg\n",
        "test['pred_avg'] = global_avg\n",
        "\n",
        "def rmse(true, pred):\n",
        "    return np.sqrt(np.mean((true - pred) ** 2))\n",
        "\n",
        "rmse_train_avg = rmse(train['rating'], train['pred_avg'])\n",
        "rmse_test_avg = rmse(test['rating'], test['pred_avg'])\n"
      ],
      "metadata": {
        "id": "4lsXhuNhjYV3"
      },
      "execution_count": 4,
      "outputs": []
    },
    {
      "cell_type": "markdown",
      "source": [
        "## Step 4: Calculate User and Item Biases\n",
        "\n",
        "We compute how much each user and each item deviates from the global average.\n"
      ],
      "metadata": {
        "id": "57uEoLaRjzWA"
      }
    },
    {
      "cell_type": "code",
      "source": [
        "user_bias = train.groupby('user')['rating'].mean() - global_avg\n",
        "item_bias = train.groupby('item')['rating'].mean() - global_avg\n"
      ],
      "metadata": {
        "id": "ZPn_AIVAj6iJ"
      },
      "execution_count": 5,
      "outputs": []
    },
    {
      "cell_type": "markdown",
      "source": [
        "## Step 5: Baseline Predictors\n",
        "\n",
        "We add global average, user bias, and item bias to create baseline predictions.\n"
      ],
      "metadata": {
        "id": "pwdoqhGUkB6I"
      }
    },
    {
      "cell_type": "code",
      "source": [
        "# Predict on training set\n",
        "train['user_bias'] = train['user'].map(user_bias)\n",
        "train['item_bias'] = train['item'].map(item_bias)\n",
        "train['pred_base'] = global_avg + train['user_bias'] + train['item_bias']\n",
        "\n",
        "# Predict on test set (fill unknown biases with 0)\n",
        "test['user_bias'] = test['user'].map(user_bias).fillna(0)\n",
        "test['item_bias'] = test['item'].map(item_bias).fillna(0)\n",
        "test['pred_base'] = global_avg + test['user_bias'] + test['item_bias']\n",
        "\n",
        "rmse_train_base = rmse(train['rating'], train['pred_base'])\n",
        "rmse_test_base = rmse(test['rating'], test['pred_base'])\n"
      ],
      "metadata": {
        "id": "PpBWVKfrkJ-H"
      },
      "execution_count": 6,
      "outputs": []
    },
    {
      "cell_type": "markdown",
      "source": [
        "## Step 6: Summary of Results\n",
        "\n",
        "We compare RMSE from raw average prediction vs. baseline predictors.\n"
      ],
      "metadata": {
        "id": "rYLU1WKSkQnA"
      }
    },
    {
      "cell_type": "code",
      "source": [
        "summary = pd.DataFrame({\n",
        "    'Metric': ['Raw Average RMSE', 'Baseline Predictor RMSE'],\n",
        "    'Train RMSE': [rmse_train_avg, rmse_train_base],\n",
        "    'Test RMSE': [rmse_test_avg, rmse_test_base]\n",
        "})\n",
        "\n",
        "print(\"RMSE Summary:\")\n",
        "print(summary)\n"
      ],
      "metadata": {
        "colab": {
          "base_uri": "https://localhost:8080/"
        },
        "id": "QjJcHbR3kV0f",
        "outputId": "0bac00dd-e8d8-4a23-8816-c4172bb5b4ef"
      },
      "execution_count": 7,
      "outputs": [
        {
          "output_type": "stream",
          "name": "stdout",
          "text": [
            "RMSE Summary:\n",
            "                    Metric  Train RMSE  Test RMSE\n",
            "0         Raw Average RMSE    1.286111   1.457835\n",
            "1  Baseline Predictor RMSE    1.076531   1.406671\n"
          ]
        }
      ]
    }
  ]
}